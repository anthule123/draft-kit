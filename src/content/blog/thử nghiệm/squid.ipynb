{
 "cells": [
  {
   "cell_type": "code",
   "execution_count": 1,
   "metadata": {},
   "outputs": [],
   "source": [
    "m = 2"
   ]
  },
  {
   "cell_type": "code",
   "execution_count": 2,
   "metadata": {},
   "outputs": [],
   "source": [
    "n_tests = 500"
   ]
  },
  {
   "cell_type": "code",
   "execution_count": 9,
   "metadata": {},
   "outputs": [],
   "source": [
    "import random\n"
   ]
  },
  {
   "cell_type": "code",
   "execution_count": 42,
   "metadata": {},
   "outputs": [
    {
     "name": "stdout",
     "output_type": "stream",
     "text": [
      "\n",
      "Lượt thử thứ 1\n",
      "Người chơi 1 đang thử\n",
      "- Thất bại ở hàng 2\n",
      "Người chơi 2 đang thử\n",
      "- Vượt qua hàng 3\n",
      "Người chơi 2 đã chiến thắng!\n",
      "\n",
      "Số lần thử: 1\n"
     ]
    }
   ],
   "source": [
    "import random\n",
    "\n",
    "n_players = 3\n",
    "n_rows = n_players-1\n",
    "\n",
    "reach = False \n",
    "count_players = 0\n",
    "remember = 0\n",
    "\n",
    "while not reach:\n",
    "    count_players += 1\n",
    "    print(f\"\\nLượt thử thứ {count_players}\")\n",
    "    \n",
    "    for i in range(remember, n_players):\n",
    "        print(f\"Người chơi {i+1} đang thử\")\n",
    "        success = True\n",
    "        \n",
    "        for row in range(remember+1, n_rows+ 1):\n",
    "            ok = random.randint(0, 1)\n",
    "            if ok < 1:\n",
    "                print(f\"- Thất bại ở hàng {row+1}\")\n",
    "                success = False\n",
    "                remember = i + 1\n",
    "                break\n",
    "            print(f\"- Vượt qua hàng {row+1}\")\n",
    "            \n",
    "        if success:\n",
    "            print(f\"Người chơi {i+1} đã chiến thắng!\")\n",
    "            reach = True\n",
    "            break\n",
    "\n",
    "print(f\"\\nSố lần thử: {count_players}\")"
   ]
  }
 ],
 "metadata": {
  "kernelspec": {
   "display_name": "Python 3",
   "language": "python",
   "name": "python3"
  },
  "language_info": {
   "codemirror_mode": {
    "name": "ipython",
    "version": 3
   },
   "file_extension": ".py",
   "mimetype": "text/x-python",
   "name": "python",
   "nbconvert_exporter": "python",
   "pygments_lexer": "ipython3",
   "version": "3.12.3"
  }
 },
 "nbformat": 4,
 "nbformat_minor": 2
}
